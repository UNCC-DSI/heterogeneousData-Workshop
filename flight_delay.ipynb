{
 "cells": [
  {
   "cell_type": "markdown",
   "metadata": {},
   "source": [
    "<h1> Predicting airline delays with Spark and ML-Lib using pySpark </h1>\n",
    "<br>\n",
    "Adapted from http://nbviewer.ipython.org/github/ofermend/IPython-notebooks/blob/master/blog-part-2.ipynb"
   ]
  },
  {
   "cell_type": "markdown",
   "metadata": {},
   "source": [
    "<h2>Pre-processing with PySpark</h2>\n",
    "<h3>Read in the data</h3>"
   ]
  },
  {
   "cell_type": "code",
   "execution_count": 1,
   "metadata": {
    "collapsed": false,
    "scrolled": true
   },
   "outputs": [
    {
     "name": "stdout",
     "output_type": "stream",
     "text": [
      "[u'Year,Month,DayofMonth,DayOfWeek,DepTime,CRSDepTime,ArrTime,CRSArrTime,UniqueCarrier,FlightNum,TailNum,ActualElapsedTime,CRSElapsedTime,AirTime,ArrDelay,DepDelay,Origin,Dest,Distance,TaxiIn,TaxiOut,Cancelled,CancellationCode,Diverted,CarrierDelay,WeatherDelay,NASDelay,SecurityDelay,LateAircraftDelay']\n",
      "[u'2007,1,25,4,1052,1100,1359,1414,XE,1202,N12167,127,134,105,-15,-8,ORD,EWR,719,5,17,0,,0,0,0,0,0,0']\n",
      "[u'2008,1,8,2,1711,1600,2031,1945,XE,1226,N14953,140,165,106,46,71,ORD,EWR,719,8,26,0,,0,0,0,2,0,44']\n"
     ]
    }
   ],
   "source": [
    "import os.path\n",
    "\n",
    "AIRPORT = 'ORD'\n",
    "\n",
    "base_dir = os.path.join('data')\n",
    "# http://stat-computing.org/dataexpo/2009/the-data.html\n",
    "input_path_2007 = os.path.join('flights', '2007.csv')\n",
    "input_path_2008 = os.path.join('flights', '2008.csv')\n",
    "# http://www.ncdc.noaa.gov/cdo-web/datasets/\n",
    "input_path_weather = os.path.join('flights', AIRPORT + '.csv')\n",
    "\n",
    "file_name_2007 = os.path.join(base_dir, input_path_2007)\n",
    "file_name_2008 = os.path.join(base_dir, input_path_2008)\n",
    "file_name_weather = os.path.join(base_dir, input_path_weather)\n",
    "\n",
    "raw_data_2007 = sc.textFile(file_name_2007)\n",
    "raw_data_2008 = sc.textFile(file_name_2008)\n",
    "weather_data = sc.textFile(file_name_weather)\n",
    "\n",
    "header1 = raw_data_2007.take(1) \n",
    "\n",
    "filtered_data_2007 = (raw_data_2007\n",
    "                        # filter on Airport\n",
    "                        .filter(lambda l: ',' + AIRPORT + ',' in l)\n",
    "                        # filter out cancelled flights\n",
    "                        .filter(lambda l: ',,' in l)\n",
    "                        # filter out header\n",
    "                        .filter(lambda line: 'Year' not in line))\n",
    "filtered_data_2008 = (raw_data_2008\n",
    "                        # filter on Airport\n",
    "                        .filter(lambda l: ',' + AIRPORT + ',' in l)\n",
    "                        # filter out cancelled flights\n",
    "                        .filter(lambda l: ',,' in l)\n",
    "                        # filter out header\n",
    "                        .filter(lambda l: 'Year' not in l))\n",
    "\n",
    "# CRS = Computer Reservation System\n",
    "# scheduled time as opposed to the actual time\n",
    "print header1\n",
    "print filtered_data_2007.take(1)\n",
    "print filtered_data_2008.take(1)"
   ]
  },
  {
   "cell_type": "markdown",
   "metadata": {},
   "source": [
    "<h3>Public holidays</h3>"
   ]
  },
  {
   "cell_type": "code",
   "execution_count": 2,
   "metadata": {
    "collapsed": true
   },
   "outputs": [],
   "source": [
    "holidays = ['01/01/2007', '01/15/2007', '02/19/2007', '05/28/2007', '06/07/2007', '07/04/2007',\n",
    "      '09/03/2007', '10/08/2007' ,'11/11/2007', '11/22/2007', '12/25/2007',\n",
    "      '01/01/2008', '01/21/2008', '02/18/2008', '05/22/2008', '05/26/2008', '07/04/2008',\n",
    "      '09/01/2008', '10/13/2008' ,'11/11/2008', '11/27/2008', '12/25/2008']"
   ]
  },
  {
   "cell_type": "markdown",
   "metadata": {},
   "source": [
    "<h3>Add weather and plane data and extract features</h3>"
   ]
  },
  {
   "cell_type": "code",
   "execution_count": 3,
   "metadata": {
    "collapsed": false
   },
   "outputs": [],
   "source": [
    "import datetime\n",
    "import numpy as np\n",
    "from pyspark.mllib.regression import LabeledPoint\n",
    "\n",
    "def make_weather_dict():\n",
    "    weather_dict = {}\n",
    "    weather_lines = weather_data.collect()\n",
    "    for line in weather_lines:\n",
    "        all_vals = line.split(',')\n",
    "        # key: date / values: precipitation, snow, max temp, min temp, average wind\n",
    "        weather_dict[all_vals[2]] = [all_vals[3], all_vals[4], all_vals[5], all_vals[6], all_vals[7]]\n",
    "    \n",
    "    return weather_dict\n",
    "\n",
    "def days_from_nearest_holiday(year, month, day):\n",
    "    diffs = []\n",
    "    sample_date = datetime.date(year, month, day)\n",
    "    for holiday in holidays:\n",
    "        dt = datetime.datetime.strptime(holiday, '%m/%d/%Y').date()\n",
    "        td = dt - sample_date\n",
    "        diffs.append(abs(td.days))\n",
    "\n",
    "    return min(diffs) * 1.0\n",
    "    \n",
    "def make_labeled_point(flight):\n",
    "    try:\n",
    "        wd = weather_dict.value\n",
    "        flight_data = flight.split(',')\n",
    "        date_string = str(flight_data[0]) + str(flight_data[1]).zfill(2) + str(flight_data[2]).zfill(2)\n",
    "        weather_data = wd[date_string]\n",
    "        features = []\n",
    "        lbl = 0.0\n",
    "        if float(flight_data[15]) >= 15.0:\n",
    "            lbl = 1.0\n",
    "        features.append(float(flight_data[1]))         # Month\n",
    "        features.append(float(flight_data[2]))         # DayofMonth\n",
    "        features.append(float(flight_data[3]))         # DayOfWeek\n",
    "        features.append(float(flight_data[5]) / 100)   # CRSDepTime\n",
    "        features.append(days_from_nearest_holiday(int(flight_data[0]), int(flight_data[1]), int(flight_data[2]))) \n",
    "        features.append(float(weather_data[0]))        # precipitation\n",
    "        features.append(float(weather_data[1]) / 10.0) # snow (tenths of mm)\n",
    "        features.append(float(weather_data[2]) / 10.0) # max temp (tenths of degrees C)\n",
    "        features.append(float(weather_data[3]) / 10.0) # min temp (tenths of degrees C)\n",
    "        features.append(float(weather_data[4]))        # average wind\n",
    "\n",
    "        return LabeledPoint(lbl, features)\n",
    "    except:\n",
    "        return LabeledPoint(0.0, [0.0 for i in range(10)])"
   ]
  },
  {
   "cell_type": "code",
   "execution_count": 4,
   "metadata": {
    "collapsed": false
   },
   "outputs": [
    {
     "name": "stdout",
     "output_type": "stream",
     "text": [
      "[LabeledPoint(0.0, [1.0,25.0,4.0,11.0,10.0,0.0,0.0,-4.4,-9.4,42.0])]\n",
      "[LabeledPoint(1.0, [1.0,8.0,2.0,16.0,7.0,168.0,0.0,13.3,2.8,61.0])]\n"
     ]
    }
   ],
   "source": [
    "weather_dict = sc.broadcast(make_weather_dict())\n",
    "\n",
    "train_data = filtered_data_2007.map(lambda line: make_labeled_point(line))\n",
    "train_data.cache()\n",
    "test_data = filtered_data_2008.map(lambda line: make_labeled_point(line))\n",
    "test_data.cache()\n",
    "\n",
    "print train_data.take(1)\n",
    "print test_data.take(1)"
   ]
  },
  {
   "cell_type": "markdown",
   "metadata": {},
   "source": [
    "<h3>Delay distribution in percent</h3>"
   ]
  },
  {
   "cell_type": "code",
   "execution_count": 5,
   "metadata": {
    "collapsed": false
   },
   "outputs": [
    {
     "data": {
      "image/png": "[encoded data removed]",
      "text/plain": [
       "<matplotlib.figure.Figure at 0x1137f3190>"
      ]
     },
     "metadata": {},
     "output_type": "display_data"
    }
   ],
   "source": [
    "import matplotlib.pyplot as plt\n",
    "%matplotlib inline\n",
    "\n",
    "total = test_data.count()\n",
    "late = test_data.filter(lambda lp: lp.label == 1.0).count()\n",
    "labels = ['On Time', 'Delayed']\n",
    "fracs = [total - late, late]\n",
    "explode = (0, 0.05)\n",
    "\n",
    "fig = plt.figure(figsize=(7, 7))\n",
    "fig.suptitle('2008 - Delays in percent', fontsize=14, fontweight='bold')\n",
    "ax = fig.add_subplot(111)\n",
    "ax.pie(fracs, explode=explode, labels=labels, autopct='%1.1f%%', shadow=True, startangle=90)\n",
    "pass"
   ]
  },
  {
   "cell_type": "markdown",
   "metadata": {},
   "source": [
    "<h3>Delay distribution by month</h3>"
   ]
  },
  {
   "cell_type": "code",
   "execution_count": 6,
   "metadata": {
    "collapsed": false
   },
   "outputs": [
    {
     "data": {
      "image/png": "[encoded data removed]",
      "text/plain": [
       "<matplotlib.figure.Figure at 0x11397f8d0>"
      ]
     },
     "metadata": {},
     "output_type": "display_data"
    }
   ],
   "source": [
    "x_axis = [i + 1 for i in range(12)]\n",
    "y_axis = (test_data.filter(lambda lp: lp.label == 1.0)\n",
    "                   .map(lambda lp: (lp.features[0], 1))\n",
    "                   .reduceByKey(lambda x, y: x + y)\n",
    "                   .map(lambda tup: tup[1])\n",
    "                   .collect())\n",
    "\n",
    "fig = plt.figure(figsize=(7, 7))\n",
    "fig.suptitle('2008 - Delays per month', fontsize=14, fontweight='bold')\n",
    "ax = fig.add_subplot(111)\n",
    "ax.set_xlabel('Month')\n",
    "ax.set_ylabel('Delayed')\n",
    "ax.bar(x_axis, y_axis, color='g', align='center')\n",
    "pass"
   ]
  },
  {
   "cell_type": "markdown",
   "metadata": {},
   "source": [
    "<h2>Modeling with Spark and ML-Lib</h2>"
   ]
  },
  {
   "cell_type": "code",
   "execution_count": 7,
   "metadata": {
    "collapsed": false
   },
   "outputs": [
    {
     "name": "stdout",
     "output_type": "stream",
     "text": [
      "[LabeledPoint(0.0, [-1.61588741115,1.05502642604,0.0323641076933,-0.44197356246,-0.280232424358,-0.372379867404,-0.189242709038,-1.61971981276,-1.43413687357,-0.130738595082])]\n",
      "[LabeledPoint(1.0, [-1.51471707139,-0.810096211109,-0.880088261241,0.688926935369,-0.513138229714,1.29345446628,-0.235417954896,-0.0908158220154,-0.179318768852,1.11221878367])]\n"
     ]
    }
   ],
   "source": [
    "from pyspark.mllib.stat import Statistics\n",
    "import math\n",
    "\n",
    "# rescale the features by centering\n",
    "# and dividing by the variance\n",
    "def rescale(features):\n",
    "    r = []\n",
    "    for i, f in enumerate(features):\n",
    "        c = f - mean.value[i]\n",
    "        s = c / math.sqrt(variance.value[i]) if c != 0.0 else 0.0\n",
    "        r.append(s)\n",
    "    return r\n",
    "\n",
    "summary = Statistics.colStats(train_data.map(lambda lp: lp.features))\n",
    "# broadcast as list to avoid\n",
    "# the 'sc broadcast' error\n",
    "mean = sc.broadcast(summary.mean())\n",
    "variance = sc.broadcast(summary.variance())\n",
    "scaled_train_data = train_data.map(lambda lp: LabeledPoint(lp.label, rescale(lp.features)))\n",
    "scaled_train_data.cache()\n",
    "\n",
    "summary2 = Statistics.colStats(test_data.map(lambda lp: lp.features))\n",
    "mean = sc.broadcast(summary2.mean())\n",
    "variance = sc.broadcast(summary2.variance())\n",
    "scaled_test_data = test_data.map(lambda lp: LabeledPoint(lp.label, rescale(lp.features)))\n",
    "scaled_test_data.cache()\n",
    "\n",
    "print scaled_train_data.take(1)\n",
    "print scaled_test_data.take(1)"
   ]
  },
  {
   "cell_type": "markdown",
   "metadata": {},
   "source": [
    "<h3>Evaluation function</h3>"
   ]
  },
  {
   "cell_type": "code",
   "execution_count": 8,
   "metadata": {
    "collapsed": true
   },
   "outputs": [],
   "source": [
    "def eval_metrics(lbl_pred):\n",
    "    tp = float(lbl_pred.filter(lambda lp: lp[0]==1.0 and lp[1]==1.0).count())\n",
    "    tn = float(lbl_pred.filter(lambda lp: lp[0]==0.0 and lp[1]==0.0).count())\n",
    "    fp = float(lbl_pred.filter(lambda lp: lp[0]==1.0 and lp[1]==0.0).count())\n",
    "    fn = float(lbl_pred.filter(lambda lp: lp[0]==0.0 and lp[1]==1.0).count())\n",
    "    \n",
    "    precision = tp / (tp + fp)\n",
    "    recall = tp / (tp + fn)\n",
    "    F_measure = 2 * precision * recall / (precision + recall)\n",
    "    accuracy = (tp + tn) / (tp + tn + fp + fn)\n",
    "    \n",
    "    return([tp, tn, fp, fn], [precision, recall, F_measure, accuracy])"
   ]
  },
  {
   "cell_type": "markdown",
   "metadata": {},
   "source": [
    "<h3>Logistic regression</h3>"
   ]
  },
  {
   "cell_type": "code",
   "execution_count": 9,
   "metadata": {
    "collapsed": false
   },
   "outputs": [
    {
     "name": "stdout",
     "output_type": "stream",
     "text": [
      "Precision : 0.38\n",
      "Recall : 0.71\n",
      "F1 : 0.50\n",
      "Accuracy : 0.63\n"
     ]
    }
   ],
   "source": [
    "from pyspark.mllib.classification import LogisticRegressionWithSGD\n",
    "\n",
    "model_lr = LogisticRegressionWithSGD.train(scaled_train_data, iterations=100)\n",
    "labels_and_predictions = scaled_test_data.map(lambda lp: (model_lr.predict(lp.features), lp.label))\n",
    "metrics = eval_metrics(labels_and_predictions)\n",
    "\n",
    "print('Precision : %.2f' % round(metrics[1][0], 2))\n",
    "print('Recall : %.2f' % round(metrics[1][1], 2))\n",
    "print('F1 : %.2f' % round(metrics[1][2], 2))\n",
    "print('Accuracy : %.2f' % round(metrics[1][3], 2))"
   ]
  },
  {
   "cell_type": "markdown",
   "metadata": {},
   "source": [
    "<h3>Support Vector Machine</h3>"
   ]
  },
  {
   "cell_type": "code",
   "execution_count": 10,
   "metadata": {
    "collapsed": false
   },
   "outputs": [
    {
     "name": "stdout",
     "output_type": "stream",
     "text": [
      "Precision : 0.38\n",
      "Recall : 0.71\n",
      "F1 : 0.50\n",
      "Accuracy : 0.63\n"
     ]
    }
   ],
   "source": [
    "from pyspark.mllib.classification import SVMWithSGD\n",
    "\n",
    "model_svm = SVMWithSGD.train(scaled_train_data, iterations=100, step=1.0, regParam=0.01)\n",
    "labels_and_predictions = scaled_test_data.map(lambda lp: (model_svm.predict(lp.features), lp.label))\n",
    "metrics = eval_metrics(labels_and_predictions)\n",
    "\n",
    "print('Precision : %.2f' % round(metrics[1][0], 2))\n",
    "print('Recall : %.2f' % round(metrics[1][1], 2))\n",
    "print('F1 : %.2f' % round(metrics[1][2], 2))\n",
    "print('Accuracy : %.2f' % round(metrics[1][3], 2))"
   ]
  },
  {
   "cell_type": "markdown",
   "metadata": {},
   "source": [
    "<h3>Naive Bayes</h3>"
   ]
  },
  {
   "cell_type": "code",
   "execution_count": 11,
   "metadata": {
    "collapsed": false
   },
   "outputs": [
    {
     "name": "stdout",
     "output_type": "stream",
     "text": [
      "Precision : 0.46\n",
      "Recall : 0.34\n",
      "F1 : 0.39\n",
      "Accuracy : 0.72\n"
     ]
    }
   ],
   "source": [
    "from pyspark.mllib.classification import NaiveBayes\n",
    "\n",
    "# Naive Bayes expects positive \n",
    "# features, so we take the abs\n",
    "def absolute(feat):\n",
    "    r = []\n",
    "    for x in feat:\n",
    "        r.append(abs(x))\n",
    "    return r\n",
    "\n",
    "absolute_train_data = train_data.map(lambda lp: LabeledPoint(lp.label, absolute(lp.features)))\n",
    "absolute_test_data = test_data.map(lambda lp: LabeledPoint(lp.label, absolute(lp.features)))\n",
    "\n",
    "model_nb = NaiveBayes.train(absolute_train_data)\n",
    "labels_and_predictions = absolute_test_data.map(lambda lp: (model_nb.predict(lp.features), lp.label))\n",
    "metrics = eval_metrics(labels_and_predictions)\n",
    "\n",
    "print('Precision : %.2f' % round(metrics[1][0], 2))\n",
    "print('Recall : %.2f' % round(metrics[1][1], 2))\n",
    "print('F1 : %.2f' % round(metrics[1][2], 2))\n",
    "print('Accuracy : %.2f' % round(metrics[1][3], 2))"
   ]
  },
  {
   "cell_type": "code",
   "execution_count": null,
   "metadata": {
    "collapsed": true
   },
   "outputs": [],
   "source": []
  }
 ],
 "metadata": {
  "kernelspec": {
   "display_name": "Python 2",
   "language": "python",
   "name": "python2"
  },
  "language_info": {
   "codemirror_mode": {
    "name": "ipython",
    "version": 2
   },
   "file_extension": ".py",
   "mimetype": "text/x-python",
   "name": "python",
   "nbconvert_exporter": "python",
   "pygments_lexer": "ipython2",
   "version": "2.7.10"
  }
 },
 "nbformat": 4,
 "nbformat_minor": 0
}
